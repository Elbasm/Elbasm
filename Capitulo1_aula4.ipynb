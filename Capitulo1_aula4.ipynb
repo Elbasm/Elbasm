{
  "nbformat": 4,
  "nbformat_minor": 0,
  "metadata": {
    "colab": {
      "provenance": [],
      "authorship_tag": "ABX9TyOZoha/ovZKjOPWq1mOffKM",
      "include_colab_link": true
    },
    "kernelspec": {
      "name": "python3",
      "display_name": "Python 3"
    },
    "language_info": {
      "name": "python"
    }
  },
  "cells": [
    {
      "cell_type": "markdown",
      "metadata": {
        "id": "view-in-github",
        "colab_type": "text"
      },
      "source": [
        "<a href=\"https://colab.research.google.com/github/Elbasm/Elbasm/blob/main/Capitulo1_aula4.ipynb\" target=\"_parent\"><img src=\"https://colab.research.google.com/assets/colab-badge.svg\" alt=\"Open In Colab\"/></a>"
      ]
    },
    {
      "cell_type": "code",
      "execution_count": 4,
      "metadata": {
        "colab": {
          "base_uri": "https://localhost:8080/"
        },
        "id": "l-6E2maF2yQI",
        "outputId": "f5a6eeea-1644-45d2-81cd-8d93584f4cea"
      },
      "outputs": [
        {
          "output_type": "stream",
          "name": "stdout",
          "text": [
            "Olá Antônio Carlos seja bem-vindo!\n"
          ]
        }
      ],
      "source": [
        "nome = \"Antônio Carlos\"\n",
        "print('Olá', nome, 'seja bem-vindo!')"
      ]
    }
  ]
}